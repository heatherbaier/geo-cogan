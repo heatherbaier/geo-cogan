{
 "cells": [
  {
   "cell_type": "code",
   "execution_count": 1,
   "id": "8f421db5",
   "metadata": {},
   "outputs": [],
   "source": [
    "import matplotlib.pyplot as plt\n",
    "import pandas as pd\n",
    "import urllib\n",
    "import os"
   ]
  },
  {
   "cell_type": "code",
   "execution_count": 2,
   "id": "46b280e9",
   "metadata": {},
   "outputs": [],
   "source": [
    "# existing_files = os.listdir(\"./imagery/\")\n",
    "# existing_files = [i for i in existing_files if \".ipynb\" not in i]\n",
    "# existing_files = [str(i.split(\"_\")[1].split(\".\")[0]) for i in existing_files]"
   ]
  },
  {
   "cell_type": "code",
   "execution_count": 3,
   "id": "fc858897",
   "metadata": {},
   "outputs": [],
   "source": [
    "# len(existing_files)"
   ]
  },
  {
   "cell_type": "code",
   "execution_count": 4,
   "id": "4e2a1bee",
   "metadata": {},
   "outputs": [
    {
     "name": "stdout",
     "output_type": "stream",
     "text": [
      "(15867, 3)\n",
      "(15867, 3)\n"
     ]
    },
    {
     "data": {
      "text/html": [
       "<div>\n",
       "<style scoped>\n",
       "    .dataframe tbody tr th:only-of-type {\n",
       "        vertical-align: middle;\n",
       "    }\n",
       "\n",
       "    .dataframe tbody tr th {\n",
       "        vertical-align: top;\n",
       "    }\n",
       "\n",
       "    .dataframe thead th {\n",
       "        text-align: right;\n",
       "    }\n",
       "</style>\n",
       "<table border=\"1\" class=\"dataframe\">\n",
       "  <thead>\n",
       "    <tr style=\"text-align: right;\">\n",
       "      <th></th>\n",
       "      <th>school_id</th>\n",
       "      <th>latitude</th>\n",
       "      <th>longitude</th>\n",
       "    </tr>\n",
       "  </thead>\n",
       "  <tbody>\n",
       "    <tr>\n",
       "      <th>2</th>\n",
       "      <td>PS0101-001</td>\n",
       "      <td>-3.338421</td>\n",
       "      <td>36.744000</td>\n",
       "    </tr>\n",
       "    <tr>\n",
       "      <th>5</th>\n",
       "      <td>PS0101-003</td>\n",
       "      <td>-3.607895</td>\n",
       "      <td>36.844783</td>\n",
       "    </tr>\n",
       "    <tr>\n",
       "      <th>8</th>\n",
       "      <td>PS0101-005</td>\n",
       "      <td>-3.295716</td>\n",
       "      <td>36.620229</td>\n",
       "    </tr>\n",
       "    <tr>\n",
       "      <th>11</th>\n",
       "      <td>PS0101-006</td>\n",
       "      <td>-3.308792</td>\n",
       "      <td>36.648969</td>\n",
       "    </tr>\n",
       "    <tr>\n",
       "      <th>14</th>\n",
       "      <td>PS0101-007</td>\n",
       "      <td>-3.334140</td>\n",
       "      <td>36.657130</td>\n",
       "    </tr>\n",
       "  </tbody>\n",
       "</table>\n",
       "</div>"
      ],
      "text/plain": [
       "     school_id  latitude  longitude\n",
       "2   PS0101-001 -3.338421  36.744000\n",
       "5   PS0101-003 -3.607895  36.844783\n",
       "8   PS0101-005 -3.295716  36.620229\n",
       "11  PS0101-006 -3.308792  36.648969\n",
       "14  PS0101-007 -3.334140  36.657130"
      ]
     },
     "execution_count": 4,
     "metadata": {},
     "output_type": "execute_result"
    }
   ],
   "source": [
    "coords = pd.read_csv(\"./data/pri-performing-all.csv\")\n",
    "coords = coords[coords[\"YEAR_OF_RESULT\"] == 2014]\n",
    "coords = coords[[\"CODE\", \"LATITUDE\", \"LONGITUDE\"]]\n",
    "coords.columns = [\"school_id\", \"latitude\", \"longitude\"]\n",
    "print(coords.shape)\n",
    "coords = coords.drop_duplicates(subset = [\"school_id\"])\n",
    "print(coords.shape)\n",
    "coords.head()"
   ]
  },
  {
   "cell_type": "code",
   "execution_count": 5,
   "id": "9e5b617f",
   "metadata": {},
   "outputs": [
    {
     "name": "stdout",
     "output_type": "stream",
     "text": [
      "(15867, 3)\n"
     ]
    }
   ],
   "source": [
    "print(coords.shape)"
   ]
  },
  {
   "cell_type": "code",
   "execution_count": 6,
   "id": "82da838c",
   "metadata": {},
   "outputs": [],
   "source": [
    "API_KEY = \"\""
   ]
  },
  {
   "cell_type": "code",
   "execution_count": 7,
   "id": "b00432f6",
   "metadata": {},
   "outputs": [],
   "source": [
    "def GetGoogleStatic(lat, long, school_id):\n",
    "    lat = str(lat)\n",
    "    long = str(long)\n",
    "    url = \"https://maps.googleapis.com/maps/api/staticmap?center=\" + str(lat) + \",\" + str(long) + \"&zoom=18&size=256x256&maptype=satellite&key=\" + API_KEY\n",
    "    file = \"./tan_imagery/z18_\" + str(school_id) + \".png\"\n",
    "    urllib.request.urlretrieve(url, file)"
   ]
  },
  {
   "cell_type": "code",
   "execution_count": 10,
   "id": "32f93497",
   "metadata": {},
   "outputs": [],
   "source": [
    "count = 1\n",
    "\n",
    "for index, row in coords.iterrows():\n",
    "    \n",
    "    file = \"./tan_imagery/z18_\" + str(row.school_id) + \".png\"\n",
    "    \n",
    "    if not os.path.exists(file):\n",
    "    \n",
    "        msg = \"File #\" + str(count)\n",
    "        GetGoogleStatic(row['latitude'], row['longitude'], row['school_id'])\n",
    "        count += 1\n",
    "\n",
    "        with open(\"./tan_counter.txt\", \"w\") as f:\n",
    "            f.write(str(count) + \" out of \" + str(len(coords)))"
   ]
  },
  {
   "cell_type": "code",
   "execution_count": null,
   "id": "159da746",
   "metadata": {},
   "outputs": [],
   "source": []
  }
 ],
 "metadata": {
  "kernelspec": {
   "display_name": "Python 3",
   "language": "python",
   "name": "python3"
  },
  "language_info": {
   "codemirror_mode": {
    "name": "ipython",
    "version": 3
   },
   "file_extension": ".py",
   "mimetype": "text/x-python",
   "name": "python",
   "nbconvert_exporter": "python",
   "pygments_lexer": "ipython3",
   "version": "3.7.10"
  }
 },
 "nbformat": 4,
 "nbformat_minor": 5
}
