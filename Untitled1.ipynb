{
 "cells": [
  {
   "cell_type": "code",
   "execution_count": 5,
   "id": "ee127426",
   "metadata": {},
   "outputs": [
    {
     "data": {
      "text/html": [
       "<div>\n",
       "<style scoped>\n",
       "    .dataframe tbody tr th:only-of-type {\n",
       "        vertical-align: middle;\n",
       "    }\n",
       "\n",
       "    .dataframe tbody tr th {\n",
       "        vertical-align: top;\n",
       "    }\n",
       "\n",
       "    .dataframe thead th {\n",
       "        text-align: right;\n",
       "    }\n",
       "</style>\n",
       "<table border=\"1\" class=\"dataframe\">\n",
       "  <thead>\n",
       "    <tr style=\"text-align: right;\">\n",
       "      <th></th>\n",
       "      <th>school_id</th>\n",
       "      <th>score</th>\n",
       "      <th>scaled_score</th>\n",
       "      <th>binary</th>\n",
       "    </tr>\n",
       "  </thead>\n",
       "  <tbody>\n",
       "    <tr>\n",
       "      <th>0</th>\n",
       "      <td>01DBH0004I</td>\n",
       "      <td>33.684371</td>\n",
       "      <td>33.358985</td>\n",
       "      <td>0</td>\n",
       "    </tr>\n",
       "    <tr>\n",
       "      <th>1</th>\n",
       "      <td>01DBH0005H</td>\n",
       "      <td>38.427961</td>\n",
       "      <td>38.128500</td>\n",
       "      <td>0</td>\n",
       "    </tr>\n",
       "    <tr>\n",
       "      <th>2</th>\n",
       "      <td>01DBP0001U</td>\n",
       "      <td>90.972222</td>\n",
       "      <td>90.959937</td>\n",
       "      <td>1</td>\n",
       "    </tr>\n",
       "    <tr>\n",
       "      <th>3</th>\n",
       "      <td>01DBP0002T</td>\n",
       "      <td>58.224969</td>\n",
       "      <td>58.033707</td>\n",
       "      <td>1</td>\n",
       "    </tr>\n",
       "    <tr>\n",
       "      <th>4</th>\n",
       "      <td>01DCM0001W</td>\n",
       "      <td>39.884005</td>\n",
       "      <td>39.592502</td>\n",
       "      <td>0</td>\n",
       "    </tr>\n",
       "  </tbody>\n",
       "</table>\n",
       "</div>"
      ],
      "text/plain": [
       "    school_id      score  scaled_score  binary\n",
       "0  01DBH0004I  33.684371     33.358985       0\n",
       "1  01DBH0005H  38.427961     38.128500       0\n",
       "2  01DBP0001U  90.972222     90.959937       1\n",
       "3  01DBP0002T  58.224969     58.033707       1\n",
       "4  01DCM0001W  39.884005     39.592502       0"
      ]
     },
     "execution_count": 5,
     "metadata": {},
     "output_type": "execute_result"
    }
   ],
   "source": [
    "from sklearn.preprocessing import MinMaxScaler\n",
    "import pandas as pd\n",
    "import numpy as np\n",
    "\n",
    "\n",
    "mex = pd.read_csv(\"./data/mex_for_gan.csv\")\n",
    "mex = mex[[\"SchoolID\", \"total_score\"]]\n",
    "mex_scaler = MinMaxScaler(feature_range = (0, 100))\n",
    "mex_scaler.fit(np.reshape(mex[\"total_score\"].values, (-1, 1)))\n",
    "mex[\"scaled\"] = mex_scaler.transform(np.reshape(mex[\"total_score\"].values, (-1, 1)))\n",
    "mex.columns = [\"school_id\", \"score\", \"scaled_score\"]\n",
    "\n",
    "tan = pd.read_csv(\"./data/pri-performing-all.csv\")\n",
    "tan = tan[tan[\"YEAR_OF_RESULT\"] == 2014]\n",
    "tan = tan[[\"CODE\", \"AVG_MARK\"]]\n",
    "tan_scaler = MinMaxScaler(feature_range = (0, 100))\n",
    "tan_scaler.fit(np.reshape(tan[\"AVG_MARK\"].values, (-1, 1)))\n",
    "tan[\"scaled\"] = tan_scaler.transform(np.reshape(tan[\"AVG_MARK\"].values, (-1, 1)))\n",
    "tan.columns = [\"school_id\", \"score\", \"scaled_score\"]\n",
    "\n",
    "df = mex.append(tan)\n",
    "df[\"binary\"] = np.where(df[\"scaled_score\"] > np.mean(df[\"scaled_score\"]), 1, 0)\n",
    "df.to_csv(\"./data/data_for_gan.csv\", index = False)\n",
    "df.head()"
   ]
  },
  {
   "cell_type": "code",
   "execution_count": null,
   "id": "450347af",
   "metadata": {},
   "outputs": [],
   "source": []
  }
 ],
 "metadata": {
  "kernelspec": {
   "display_name": "Python 3",
   "language": "python",
   "name": "python3"
  },
  "language_info": {
   "codemirror_mode": {
    "name": "ipython",
    "version": 3
   },
   "file_extension": ".py",
   "mimetype": "text/x-python",
   "name": "python",
   "nbconvert_exporter": "python",
   "pygments_lexer": "ipython3",
   "version": "3.7.10"
  }
 },
 "nbformat": 4,
 "nbformat_minor": 5
}
